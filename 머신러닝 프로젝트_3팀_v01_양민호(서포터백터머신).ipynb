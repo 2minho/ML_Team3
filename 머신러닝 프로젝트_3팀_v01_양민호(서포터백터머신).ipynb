{
 "cells": [
  {
   "cell_type": "code",
   "execution_count": 1,
   "id": "3a9ede66",
   "metadata": {},
   "outputs": [],
   "source": [
    "import pandas as pd\n",
    "import numpy as np\n",
    "import seaborn as sns\n",
    "import matplotlib.pyplot as plt\n",
    "import warnings\n",
    "plt.rcParams['font.family'] = 'Malgun Gothic'\n",
    "warnings.filterwarnings('ignore')"
   ]
  },
  {
   "cell_type": "markdown",
   "id": "3d0d7c30",
   "metadata": {},
   "source": [
    "## 1. 데이터셋 가져오기"
   ]
  },
  {
   "cell_type": "code",
   "execution_count": 2,
   "id": "107cc92e",
   "metadata": {},
   "outputs": [],
   "source": [
    "loan_train = pd.read_csv('./datasets/loan-train.csv')\n",
    "loan_test = pd.read_csv('./datasets/loan-test.csv')"
   ]
  },
  {
   "cell_type": "markdown",
   "id": "7c10d6c9",
   "metadata": {},
   "source": [
    "## 2. 데이터 탐색"
   ]
  },
  {
   "cell_type": "markdown",
   "id": "b197757b",
   "metadata": {},
   "source": [
    "### 2.1 데이터 살펴보기"
   ]
  },
  {
   "cell_type": "code",
   "execution_count": 3,
   "id": "b926f23b",
   "metadata": {
    "scrolled": false
   },
   "outputs": [
    {
     "data": {
      "text/html": [
       "<div>\n",
       "<style scoped>\n",
       "    .dataframe tbody tr th:only-of-type {\n",
       "        vertical-align: middle;\n",
       "    }\n",
       "\n",
       "    .dataframe tbody tr th {\n",
       "        vertical-align: top;\n",
       "    }\n",
       "\n",
       "    .dataframe thead th {\n",
       "        text-align: right;\n",
       "    }\n",
       "</style>\n",
       "<table border=\"1\" class=\"dataframe\">\n",
       "  <thead>\n",
       "    <tr style=\"text-align: right;\">\n",
       "      <th></th>\n",
       "      <th>Loan_ID</th>\n",
       "      <th>Gender</th>\n",
       "      <th>Married</th>\n",
       "      <th>Dependents</th>\n",
       "      <th>Education</th>\n",
       "      <th>Self_Employed</th>\n",
       "      <th>ApplicantIncome</th>\n",
       "      <th>CoapplicantIncome</th>\n",
       "      <th>LoanAmount</th>\n",
       "      <th>Loan_Amount_Term</th>\n",
       "      <th>Credit_History</th>\n",
       "      <th>Property_Area</th>\n",
       "      <th>Loan_Status</th>\n",
       "    </tr>\n",
       "  </thead>\n",
       "  <tbody>\n",
       "    <tr>\n",
       "      <th>0</th>\n",
       "      <td>LP001002</td>\n",
       "      <td>Male</td>\n",
       "      <td>No</td>\n",
       "      <td>0</td>\n",
       "      <td>Graduate</td>\n",
       "      <td>No</td>\n",
       "      <td>5849</td>\n",
       "      <td>0.0</td>\n",
       "      <td>NaN</td>\n",
       "      <td>360.0</td>\n",
       "      <td>1.0</td>\n",
       "      <td>Urban</td>\n",
       "      <td>Y</td>\n",
       "    </tr>\n",
       "    <tr>\n",
       "      <th>1</th>\n",
       "      <td>LP001003</td>\n",
       "      <td>Male</td>\n",
       "      <td>Yes</td>\n",
       "      <td>1</td>\n",
       "      <td>Graduate</td>\n",
       "      <td>No</td>\n",
       "      <td>4583</td>\n",
       "      <td>1508.0</td>\n",
       "      <td>128.0</td>\n",
       "      <td>360.0</td>\n",
       "      <td>1.0</td>\n",
       "      <td>Rural</td>\n",
       "      <td>N</td>\n",
       "    </tr>\n",
       "    <tr>\n",
       "      <th>2</th>\n",
       "      <td>LP001005</td>\n",
       "      <td>Male</td>\n",
       "      <td>Yes</td>\n",
       "      <td>0</td>\n",
       "      <td>Graduate</td>\n",
       "      <td>Yes</td>\n",
       "      <td>3000</td>\n",
       "      <td>0.0</td>\n",
       "      <td>66.0</td>\n",
       "      <td>360.0</td>\n",
       "      <td>1.0</td>\n",
       "      <td>Urban</td>\n",
       "      <td>Y</td>\n",
       "    </tr>\n",
       "    <tr>\n",
       "      <th>3</th>\n",
       "      <td>LP001006</td>\n",
       "      <td>Male</td>\n",
       "      <td>Yes</td>\n",
       "      <td>0</td>\n",
       "      <td>Not Graduate</td>\n",
       "      <td>No</td>\n",
       "      <td>2583</td>\n",
       "      <td>2358.0</td>\n",
       "      <td>120.0</td>\n",
       "      <td>360.0</td>\n",
       "      <td>1.0</td>\n",
       "      <td>Urban</td>\n",
       "      <td>Y</td>\n",
       "    </tr>\n",
       "    <tr>\n",
       "      <th>4</th>\n",
       "      <td>LP001008</td>\n",
       "      <td>Male</td>\n",
       "      <td>No</td>\n",
       "      <td>0</td>\n",
       "      <td>Graduate</td>\n",
       "      <td>No</td>\n",
       "      <td>6000</td>\n",
       "      <td>0.0</td>\n",
       "      <td>141.0</td>\n",
       "      <td>360.0</td>\n",
       "      <td>1.0</td>\n",
       "      <td>Urban</td>\n",
       "      <td>Y</td>\n",
       "    </tr>\n",
       "  </tbody>\n",
       "</table>\n",
       "</div>"
      ],
      "text/plain": [
       "    Loan_ID Gender Married Dependents     Education Self_Employed  \\\n",
       "0  LP001002   Male      No          0      Graduate            No   \n",
       "1  LP001003   Male     Yes          1      Graduate            No   \n",
       "2  LP001005   Male     Yes          0      Graduate           Yes   \n",
       "3  LP001006   Male     Yes          0  Not Graduate            No   \n",
       "4  LP001008   Male      No          0      Graduate            No   \n",
       "\n",
       "   ApplicantIncome  CoapplicantIncome  LoanAmount  Loan_Amount_Term  \\\n",
       "0             5849                0.0         NaN             360.0   \n",
       "1             4583             1508.0       128.0             360.0   \n",
       "2             3000                0.0        66.0             360.0   \n",
       "3             2583             2358.0       120.0             360.0   \n",
       "4             6000                0.0       141.0             360.0   \n",
       "\n",
       "   Credit_History Property_Area Loan_Status  \n",
       "0             1.0         Urban           Y  \n",
       "1             1.0         Rural           N  \n",
       "2             1.0         Urban           Y  \n",
       "3             1.0         Urban           Y  \n",
       "4             1.0         Urban           Y  "
      ]
     },
     "execution_count": 3,
     "metadata": {},
     "output_type": "execute_result"
    }
   ],
   "source": [
    "loan_train.head()"
   ]
  },
  {
   "cell_type": "code",
   "execution_count": 4,
   "id": "a1fdd61b",
   "metadata": {},
   "outputs": [
    {
     "data": {
      "text/html": [
       "<div>\n",
       "<style scoped>\n",
       "    .dataframe tbody tr th:only-of-type {\n",
       "        vertical-align: middle;\n",
       "    }\n",
       "\n",
       "    .dataframe tbody tr th {\n",
       "        vertical-align: top;\n",
       "    }\n",
       "\n",
       "    .dataframe thead th {\n",
       "        text-align: right;\n",
       "    }\n",
       "</style>\n",
       "<table border=\"1\" class=\"dataframe\">\n",
       "  <thead>\n",
       "    <tr style=\"text-align: right;\">\n",
       "      <th></th>\n",
       "      <th>Loan_ID</th>\n",
       "      <th>Gender</th>\n",
       "      <th>Married</th>\n",
       "      <th>Dependents</th>\n",
       "      <th>Education</th>\n",
       "      <th>Self_Employed</th>\n",
       "      <th>ApplicantIncome</th>\n",
       "      <th>CoapplicantIncome</th>\n",
       "      <th>LoanAmount</th>\n",
       "      <th>Loan_Amount_Term</th>\n",
       "      <th>Credit_History</th>\n",
       "      <th>Property_Area</th>\n",
       "    </tr>\n",
       "  </thead>\n",
       "  <tbody>\n",
       "    <tr>\n",
       "      <th>0</th>\n",
       "      <td>LP001015</td>\n",
       "      <td>Male</td>\n",
       "      <td>Yes</td>\n",
       "      <td>0</td>\n",
       "      <td>Graduate</td>\n",
       "      <td>No</td>\n",
       "      <td>5720</td>\n",
       "      <td>0</td>\n",
       "      <td>110.0</td>\n",
       "      <td>360.0</td>\n",
       "      <td>1.0</td>\n",
       "      <td>Urban</td>\n",
       "    </tr>\n",
       "    <tr>\n",
       "      <th>1</th>\n",
       "      <td>LP001022</td>\n",
       "      <td>Male</td>\n",
       "      <td>Yes</td>\n",
       "      <td>1</td>\n",
       "      <td>Graduate</td>\n",
       "      <td>No</td>\n",
       "      <td>3076</td>\n",
       "      <td>1500</td>\n",
       "      <td>126.0</td>\n",
       "      <td>360.0</td>\n",
       "      <td>1.0</td>\n",
       "      <td>Urban</td>\n",
       "    </tr>\n",
       "    <tr>\n",
       "      <th>2</th>\n",
       "      <td>LP001031</td>\n",
       "      <td>Male</td>\n",
       "      <td>Yes</td>\n",
       "      <td>2</td>\n",
       "      <td>Graduate</td>\n",
       "      <td>No</td>\n",
       "      <td>5000</td>\n",
       "      <td>1800</td>\n",
       "      <td>208.0</td>\n",
       "      <td>360.0</td>\n",
       "      <td>1.0</td>\n",
       "      <td>Urban</td>\n",
       "    </tr>\n",
       "    <tr>\n",
       "      <th>3</th>\n",
       "      <td>LP001035</td>\n",
       "      <td>Male</td>\n",
       "      <td>Yes</td>\n",
       "      <td>2</td>\n",
       "      <td>Graduate</td>\n",
       "      <td>No</td>\n",
       "      <td>2340</td>\n",
       "      <td>2546</td>\n",
       "      <td>100.0</td>\n",
       "      <td>360.0</td>\n",
       "      <td>NaN</td>\n",
       "      <td>Urban</td>\n",
       "    </tr>\n",
       "    <tr>\n",
       "      <th>4</th>\n",
       "      <td>LP001051</td>\n",
       "      <td>Male</td>\n",
       "      <td>No</td>\n",
       "      <td>0</td>\n",
       "      <td>Not Graduate</td>\n",
       "      <td>No</td>\n",
       "      <td>3276</td>\n",
       "      <td>0</td>\n",
       "      <td>78.0</td>\n",
       "      <td>360.0</td>\n",
       "      <td>1.0</td>\n",
       "      <td>Urban</td>\n",
       "    </tr>\n",
       "  </tbody>\n",
       "</table>\n",
       "</div>"
      ],
      "text/plain": [
       "    Loan_ID Gender Married Dependents     Education Self_Employed  \\\n",
       "0  LP001015   Male     Yes          0      Graduate            No   \n",
       "1  LP001022   Male     Yes          1      Graduate            No   \n",
       "2  LP001031   Male     Yes          2      Graduate            No   \n",
       "3  LP001035   Male     Yes          2      Graduate            No   \n",
       "4  LP001051   Male      No          0  Not Graduate            No   \n",
       "\n",
       "   ApplicantIncome  CoapplicantIncome  LoanAmount  Loan_Amount_Term  \\\n",
       "0             5720                  0       110.0             360.0   \n",
       "1             3076               1500       126.0             360.0   \n",
       "2             5000               1800       208.0             360.0   \n",
       "3             2340               2546       100.0             360.0   \n",
       "4             3276                  0        78.0             360.0   \n",
       "\n",
       "   Credit_History Property_Area  \n",
       "0             1.0         Urban  \n",
       "1             1.0         Urban  \n",
       "2             1.0         Urban  \n",
       "3             NaN         Urban  \n",
       "4             1.0         Urban  "
      ]
     },
     "execution_count": 4,
     "metadata": {},
     "output_type": "execute_result"
    }
   ],
   "source": [
    "loan_test.head()"
   ]
  },
  {
   "cell_type": "code",
   "execution_count": 5,
   "id": "0673e50f",
   "metadata": {},
   "outputs": [
    {
     "name": "stdout",
     "output_type": "stream",
     "text": [
      "<class 'pandas.core.frame.DataFrame'>\n",
      "RangeIndex: 614 entries, 0 to 613\n",
      "Data columns (total 13 columns):\n",
      " #   Column             Non-Null Count  Dtype  \n",
      "---  ------             --------------  -----  \n",
      " 0   Loan_ID            614 non-null    object \n",
      " 1   Gender             601 non-null    object \n",
      " 2   Married            611 non-null    object \n",
      " 3   Dependents         599 non-null    object \n",
      " 4   Education          614 non-null    object \n",
      " 5   Self_Employed      582 non-null    object \n",
      " 6   ApplicantIncome    614 non-null    int64  \n",
      " 7   CoapplicantIncome  614 non-null    float64\n",
      " 8   LoanAmount         592 non-null    float64\n",
      " 9   Loan_Amount_Term   600 non-null    float64\n",
      " 10  Credit_History     564 non-null    float64\n",
      " 11  Property_Area      614 non-null    object \n",
      " 12  Loan_Status        614 non-null    object \n",
      "dtypes: float64(4), int64(1), object(8)\n",
      "memory usage: 62.5+ KB\n"
     ]
    }
   ],
   "source": [
    "loan_train.info()"
   ]
  },
  {
   "cell_type": "markdown",
   "id": "3e9e0b15",
   "metadata": {},
   "source": [
    "**특성의 의미**\n",
    "~~~\n",
    "'Loan_ID' : ID\n",
    "'Gender' : 성별 (Male / Female)\n",
    "'Married' : 기혼 여부 (Yes / No)\n",
    "'Dependents' : 부양가족 수 (0 / 1 / 2 / 3+)\n",
    "'Education' : 졸업 여부 (Graduate / Not Graduate)\n",
    "'Self_Employed' : 자영업(Y/N)\n",
    "'ApplicantIncome' : 신청자의 수입\n",
    "'CoapplicantIncome' : 공동신청자의 수입\n",
    "'LoanAmount' : 대출액 금액\n",
    "'Loan_Amount_Term' : 대출 기간\n",
    "'Credit_History' : 신용 (0.0 / 1.0)\n",
    "'Property_Area' : 지역 (Urban / Semi Urban / Rural)\n",
    "'Loan_Status' : 대출 승인 여부 (Y/N)\n",
    "~~~"
   ]
  },
  {
   "cell_type": "code",
   "execution_count": 6,
   "id": "9ea7103f",
   "metadata": {},
   "outputs": [
    {
     "data": {
      "text/plain": [
       "Index(['Loan_ID', 'Gender', 'Married', 'Dependents', 'Education',\n",
       "       'Self_Employed', 'ApplicantIncome', 'CoapplicantIncome', 'LoanAmount',\n",
       "       'Loan_Amount_Term', 'Credit_History', 'Property_Area', 'Loan_Status'],\n",
       "      dtype='object')"
      ]
     },
     "execution_count": 6,
     "metadata": {},
     "output_type": "execute_result"
    }
   ],
   "source": [
    "loan_train.columns"
   ]
  },
  {
   "cell_type": "code",
   "execution_count": 7,
   "id": "33801ef0",
   "metadata": {
    "scrolled": true
   },
   "outputs": [
    {
     "data": {
      "text/html": [
       "<div>\n",
       "<style scoped>\n",
       "    .dataframe tbody tr th:only-of-type {\n",
       "        vertical-align: middle;\n",
       "    }\n",
       "\n",
       "    .dataframe tbody tr th {\n",
       "        vertical-align: top;\n",
       "    }\n",
       "\n",
       "    .dataframe thead th {\n",
       "        text-align: right;\n",
       "    }\n",
       "</style>\n",
       "<table border=\"1\" class=\"dataframe\">\n",
       "  <thead>\n",
       "    <tr style=\"text-align: right;\">\n",
       "      <th></th>\n",
       "      <th>ApplicantIncome</th>\n",
       "      <th>CoapplicantIncome</th>\n",
       "      <th>LoanAmount</th>\n",
       "      <th>Loan_Amount_Term</th>\n",
       "      <th>Credit_History</th>\n",
       "    </tr>\n",
       "  </thead>\n",
       "  <tbody>\n",
       "    <tr>\n",
       "      <th>count</th>\n",
       "      <td>614.000000</td>\n",
       "      <td>614.000000</td>\n",
       "      <td>592.000000</td>\n",
       "      <td>600.00000</td>\n",
       "      <td>564.000000</td>\n",
       "    </tr>\n",
       "    <tr>\n",
       "      <th>mean</th>\n",
       "      <td>5403.459283</td>\n",
       "      <td>1621.245798</td>\n",
       "      <td>146.412162</td>\n",
       "      <td>342.00000</td>\n",
       "      <td>0.842199</td>\n",
       "    </tr>\n",
       "    <tr>\n",
       "      <th>std</th>\n",
       "      <td>6109.041673</td>\n",
       "      <td>2926.248369</td>\n",
       "      <td>85.587325</td>\n",
       "      <td>65.12041</td>\n",
       "      <td>0.364878</td>\n",
       "    </tr>\n",
       "    <tr>\n",
       "      <th>min</th>\n",
       "      <td>150.000000</td>\n",
       "      <td>0.000000</td>\n",
       "      <td>9.000000</td>\n",
       "      <td>12.00000</td>\n",
       "      <td>0.000000</td>\n",
       "    </tr>\n",
       "    <tr>\n",
       "      <th>25%</th>\n",
       "      <td>2877.500000</td>\n",
       "      <td>0.000000</td>\n",
       "      <td>100.000000</td>\n",
       "      <td>360.00000</td>\n",
       "      <td>1.000000</td>\n",
       "    </tr>\n",
       "    <tr>\n",
       "      <th>50%</th>\n",
       "      <td>3812.500000</td>\n",
       "      <td>1188.500000</td>\n",
       "      <td>128.000000</td>\n",
       "      <td>360.00000</td>\n",
       "      <td>1.000000</td>\n",
       "    </tr>\n",
       "    <tr>\n",
       "      <th>75%</th>\n",
       "      <td>5795.000000</td>\n",
       "      <td>2297.250000</td>\n",
       "      <td>168.000000</td>\n",
       "      <td>360.00000</td>\n",
       "      <td>1.000000</td>\n",
       "    </tr>\n",
       "    <tr>\n",
       "      <th>max</th>\n",
       "      <td>81000.000000</td>\n",
       "      <td>41667.000000</td>\n",
       "      <td>700.000000</td>\n",
       "      <td>480.00000</td>\n",
       "      <td>1.000000</td>\n",
       "    </tr>\n",
       "  </tbody>\n",
       "</table>\n",
       "</div>"
      ],
      "text/plain": [
       "       ApplicantIncome  CoapplicantIncome  LoanAmount  Loan_Amount_Term  \\\n",
       "count       614.000000         614.000000  592.000000         600.00000   \n",
       "mean       5403.459283        1621.245798  146.412162         342.00000   \n",
       "std        6109.041673        2926.248369   85.587325          65.12041   \n",
       "min         150.000000           0.000000    9.000000          12.00000   \n",
       "25%        2877.500000           0.000000  100.000000         360.00000   \n",
       "50%        3812.500000        1188.500000  128.000000         360.00000   \n",
       "75%        5795.000000        2297.250000  168.000000         360.00000   \n",
       "max       81000.000000       41667.000000  700.000000         480.00000   \n",
       "\n",
       "       Credit_History  \n",
       "count      564.000000  \n",
       "mean         0.842199  \n",
       "std          0.364878  \n",
       "min          0.000000  \n",
       "25%          1.000000  \n",
       "50%          1.000000  \n",
       "75%          1.000000  \n",
       "max          1.000000  "
      ]
     },
     "execution_count": 7,
     "metadata": {},
     "output_type": "execute_result"
    }
   ],
   "source": [
    "loan_train.describe()"
   ]
  },
  {
   "cell_type": "markdown",
   "id": "a5139c8a",
   "metadata": {},
   "source": [
    "### 2.2 데이터 분석"
   ]
  },
  {
   "cell_type": "code",
   "execution_count": 8,
   "id": "042715f9",
   "metadata": {},
   "outputs": [
    {
     "data": {
      "text/plain": [
       "0.6872964169381107"
      ]
     },
     "execution_count": 8,
     "metadata": {},
     "output_type": "execute_result"
    }
   ],
   "source": [
    "# train data 대출 승인률 (약 69%)\n",
    "loan_prob = len(loan_train.loc[loan_train['Loan_Status']=='Y']) / len(loan_train)\n",
    "loan_prob"
   ]
  },
  {
   "cell_type": "code",
   "execution_count": 9,
   "id": "d18acf7e",
   "metadata": {
    "scrolled": true
   },
   "outputs": [
    {
     "data": {
      "text/plain": [
       "<AxesSubplot:xlabel='Loan_Status', ylabel='count'>"
      ]
     },
     "execution_count": 9,
     "metadata": {},
     "output_type": "execute_result"
    },
    {
     "data": {
      "image/png": "[encoded data removed]",
      "text/plain": [
       "<Figure size 360x360 with 1 Axes>"
      ]
     },
     "metadata": {
      "needs_background": "light"
     },
     "output_type": "display_data"
    }
   ],
   "source": [
    "# target인 Loan_Status 확인(위와 같음)\n",
    "plt.figure(figsize=(5,5))\n",
    "sns.countplot(loan_train['Loan_Status'])"
   ]
  },
  {
   "cell_type": "code",
   "execution_count": 10,
   "id": "fad8c678",
   "metadata": {},
   "outputs": [
    {
     "data": {
      "text/plain": [
       "5403.459283387622"
      ]
     },
     "execution_count": 10,
     "metadata": {},
     "output_type": "execute_result"
    }
   ],
   "source": [
    "# 대출 신청자 평균 소득: 5403 달러 \n",
    "loan_train['ApplicantIncome'].sum() / 614 "
   ]
  },
  {
   "cell_type": "code",
   "execution_count": 11,
   "id": "ae51ab47",
   "metadata": {},
   "outputs": [
    {
     "data": {
      "text/plain": [
       "(array([353., 180.,  44.,  15.,  12.,   3.,   0.,   0.,   1.,   3.,   0.,\n",
       "          0.,   1.,   0.,   0.,   1.,   0.,   0.,   0.,   1.]),\n",
       " array([  150. ,  4192.5,  8235. , 12277.5, 16320. , 20362.5, 24405. ,\n",
       "        28447.5, 32490. , 36532.5, 40575. , 44617.5, 48660. , 52702.5,\n",
       "        56745. , 60787.5, 64830. , 68872.5, 72915. , 76957.5, 81000. ]),\n",
       " <BarContainer object of 20 artists>)"
      ]
     },
     "execution_count": 11,
     "metadata": {},
     "output_type": "execute_result"
    },
    {
     "data": {
      "image/png": "[encoded data removed]",
      "text/plain": [
       "<Figure size 432x288 with 1 Axes>"
      ]
     },
     "metadata": {
      "needs_background": "light"
     },
     "output_type": "display_data"
    }
   ],
   "source": [
    "# 대출 신청자 소득 분포 (1만 달러 미만에 많이 분포함)\n",
    "plt.hist(loan_train['ApplicantIncome'], bins=20)"
   ]
  },
  {
   "cell_type": "code",
   "execution_count": 12,
   "id": "4d84d8a2",
   "metadata": {},
   "outputs": [
    {
     "data": {
      "text/plain": [
       "1621.2457980271008"
      ]
     },
     "execution_count": 12,
     "metadata": {},
     "output_type": "execute_result"
    }
   ],
   "source": [
    "# 대출 보증인(공동신청자) 평균 소득: 1621 달러 \n",
    "loan_train['CoapplicantIncome'].sum() / 614 "
   ]
  },
  {
   "cell_type": "code",
   "execution_count": 13,
   "id": "d6043cfc",
   "metadata": {},
   "outputs": [
    {
     "data": {
      "text/plain": [
       "(array([434., 127.,  36.,  10.,   1.,   2.,   0.,   0.,   0.,   2.,   0.,\n",
       "          0.,   0.,   0.,   0.,   0.,   1.,   0.,   0.,   1.]),\n",
       " array([    0.  ,  2083.35,  4166.7 ,  6250.05,  8333.4 , 10416.75,\n",
       "        12500.1 , 14583.45, 16666.8 , 18750.15, 20833.5 , 22916.85,\n",
       "        25000.2 , 27083.55, 29166.9 , 31250.25, 33333.6 , 35416.95,\n",
       "        37500.3 , 39583.65, 41667.  ]),\n",
       " <BarContainer object of 20 artists>)"
      ]
     },
     "execution_count": 13,
     "metadata": {},
     "output_type": "execute_result"
    },
    {
     "data": {
      "image/png": "[encoded data removed]",
      "text/plain": [
       "<Figure size 432x288 with 1 Axes>"
      ]
     },
     "metadata": {
      "needs_background": "light"
     },
     "output_type": "display_data"
    }
   ],
   "source": [
    "# 대출 보증인(공동신청자) 소득 분포 (5천 달러 미만에 많이 분포함)\n",
    "plt.hist(loan_train['CoapplicantIncome'], bins=20)"
   ]
  },
  {
   "cell_type": "code",
   "execution_count": 14,
   "id": "31279fcf",
   "metadata": {},
   "outputs": [
    {
     "data": {
      "text/plain": [
       "(array([ 12.,  60., 142., 168.,  90.,  53.,  15.,  18.,  10.,   5.,   4.,\n",
       "          2.,   1.,   4.,   3.,   0.,   1.,   2.,   1.,   1.]),\n",
       " array([  9.  ,  43.55,  78.1 , 112.65, 147.2 , 181.75, 216.3 , 250.85,\n",
       "        285.4 , 319.95, 354.5 , 389.05, 423.6 , 458.15, 492.7 , 527.25,\n",
       "        561.8 , 596.35, 630.9 , 665.45, 700.  ]),\n",
       " <BarContainer object of 20 artists>)"
      ]
     },
     "execution_count": 14,
     "metadata": {},
     "output_type": "execute_result"
    },
    {
     "data": {
      "image/png": "[encoded data removed]",
      "text/plain": [
       "<Figure size 432x288 with 1 Axes>"
      ]
     },
     "metadata": {
      "needs_background": "light"
     },
     "output_type": "display_data"
    }
   ],
   "source": [
    "# 대출금액(1000단위, 데이터값이 100K~200K에 몰려있음)\n",
    "plt.hist(loan_train['LoanAmount'], bins=20)"
   ]
  },
  {
   "cell_type": "code",
   "execution_count": 15,
   "id": "d916c8ca",
   "metadata": {
    "scrolled": false
   },
   "outputs": [
    {
     "data": {
      "text/plain": [
       "(array([  1.,   2.,   2.,   4.,   3.,   0.,   0.,  44.,   0.,   4.,   0.,\n",
       "          0.,  13.,   0., 512.,   0.,   0.,   0.,   0.,  15.]),\n",
       " array([ 12. ,  35.4,  58.8,  82.2, 105.6, 129. , 152.4, 175.8, 199.2,\n",
       "        222.6, 246. , 269.4, 292.8, 316.2, 339.6, 363. , 386.4, 409.8,\n",
       "        433.2, 456.6, 480. ]),\n",
       " <BarContainer object of 20 artists>)"
      ]
     },
     "execution_count": 15,
     "metadata": {},
     "output_type": "execute_result"
    },
    {
     "data": {
      "image/png": "[encoded data removed]",
      "text/plain": [
       "<Figure size 432x288 with 1 Axes>"
      ]
     },
     "metadata": {
      "needs_background": "light"
     },
     "output_type": "display_data"
    }
   ],
   "source": [
    "# 대출 기간 (30년이 압도적으로 많음)\n",
    "plt.hist(loan_train['Loan_Amount_Term'], bins=20)"
   ]
  },
  {
   "cell_type": "code",
   "execution_count": 16,
   "id": "ff05ad25",
   "metadata": {
    "scrolled": true
   },
   "outputs": [
    {
     "data": {
      "image/png": "[encoded data removed]",
      "text/plain": [
       "<Figure size 432x288 with 1 Axes>"
      ]
     },
     "metadata": {
      "needs_background": "light"
     },
     "output_type": "display_data"
    }
   ],
   "source": [
    "# 지역별 대출신청자 - Semiurban이 제일 많음\n",
    "sns.countplot(x='Property_Area', data=loan_train)\n",
    "plt.title('지역별 대출신청자')\n",
    "plt.show()"
   ]
  },
  {
   "cell_type": "code",
   "execution_count": 17,
   "id": "d261f8ba",
   "metadata": {},
   "outputs": [
    {
     "data": {
      "image/png": "[encoded data removed]",
      "text/plain": [
       "<Figure size 432x288 with 1 Axes>"
      ]
     },
     "metadata": {
      "needs_background": "light"
     },
     "output_type": "display_data"
    }
   ],
   "source": [
    "# 대출받는 남성/여성? (Gender) - 남성이 압도적으로 많음\n",
    "sns.countplot(x='Gender', data=loan_train)\n",
    "plt.title('성별 대출 신청자')\n",
    "plt.show()"
   ]
  },
  {
   "cell_type": "code",
   "execution_count": 18,
   "id": "cf2a53c0",
   "metadata": {
    "scrolled": true
   },
   "outputs": [
    {
     "data": {
      "image/png": "[encoded data removed]",
      "text/plain": [
       "<Figure size 432x288 with 1 Axes>"
      ]
     },
     "metadata": {
      "needs_background": "light"
     },
     "output_type": "display_data"
    }
   ],
   "source": [
    "# 남성/여성의 대출 규모가 다를까? (Gender & LoanAmount)\n",
    "sns.barplot(x='Gender', y='LoanAmount', data=loan_train)\n",
    "plt.title('성별간 대출 규모의 차이')\n",
    "plt.show()"
   ]
  },
  {
   "cell_type": "code",
   "execution_count": 19,
   "id": "3f0eddeb",
   "metadata": {
    "scrolled": true
   },
   "outputs": [
    {
     "data": {
      "image/png": "[encoded data removed]",
      "text/plain": [
       "<Figure size 432x288 with 1 Axes>"
      ]
     },
     "metadata": {
      "needs_background": "light"
     },
     "output_type": "display_data"
    }
   ],
   "source": [
    "# 대출 가능 여부도 성별로 다를까? (Gender & Loan_Status) - 남성 69%, 여성 67%로 거의 차이 없음\n",
    "ax = sns.countplot(x='Gender', hue='Loan_Status', data=loan_train)\n",
    "for value in ax.containers:\n",
    "    ax.bar_label(value)"
   ]
  },
  {
   "cell_type": "code",
   "execution_count": 20,
   "id": "3678f830",
   "metadata": {
    "scrolled": false
   },
   "outputs": [
    {
     "data": {
      "text/plain": [
       "Gender\n",
       "Female    112\n",
       "Male      489\n",
       "Name: Loan_Status, dtype: int64"
      ]
     },
     "execution_count": 20,
     "metadata": {},
     "output_type": "execute_result"
    }
   ],
   "source": [
    "loan_train.groupby(\"Gender\").count()[\"Loan_Status\"]"
   ]
  },
  {
   "cell_type": "code",
   "execution_count": 21,
   "id": "58093e17",
   "metadata": {},
   "outputs": [
    {
     "data": {
      "image/png": "[encoded data removed]",
      "text/plain": [
       "<Figure size 432x288 with 1 Axes>"
      ]
     },
     "metadata": {
      "needs_background": "light"
     },
     "output_type": "display_data"
    }
   ],
   "source": [
    "# 성별 신용도 조건 충족 여부 (Gender & Credit_History) - 남성 85%, 여성 83%로 비등함\n",
    "ax = sns.countplot(x='Gender', hue='Credit_History', data=loan_train)\n",
    "for value in ax.containers:\n",
    "    ax.bar_label(value)"
   ]
  },
  {
   "cell_type": "code",
   "execution_count": 22,
   "id": "f509fceb",
   "metadata": {},
   "outputs": [
    {
     "data": {
      "image/png": "[encoded data removed]",
      "text/plain": [
       "<Figure size 432x288 with 1 Axes>"
      ]
     },
     "metadata": {
      "needs_background": "light"
     },
     "output_type": "display_data"
    }
   ],
   "source": [
    "# 기혼자의 경우 대출이 조금 더 쉽게 나올까? (Married & Loan_Status) - 기혼자 71%, 미혼자 63%로 기혼자가 더 수월하게 대출을 받음\n",
    "ax = sns.countplot(x='Married', hue='Loan_Status', data=loan_train)\n",
    "for value in ax.containers:\n",
    "    ax.bar_label(value)"
   ]
  },
  {
   "cell_type": "code",
   "execution_count": 23,
   "id": "307bf08c",
   "metadata": {},
   "outputs": [
    {
     "data": {
      "image/png": "[encoded data removed]",
      "text/plain": [
       "<Figure size 432x288 with 1 Axes>"
      ]
     },
     "metadata": {
      "needs_background": "light"
     },
     "output_type": "display_data"
    }
   ],
   "source": [
    "# 부양가족이 있으면 대출 규모가 더 커질까? (Dependents & LoanAmount) - 양의 상관관계가 조금 있어보임\n",
    "sns.barplot(x='Dependents', y='LoanAmount', data=loan_train)\n",
    "plt.title('부양가족 수에 따른 대출 규모의 차이')\n",
    "plt.show()"
   ]
  },
  {
   "cell_type": "code",
   "execution_count": 24,
   "id": "ef3582eb",
   "metadata": {
    "scrolled": true
   },
   "outputs": [
    {
     "data": {
      "image/png": "[encoded data removed]",
      "text/plain": [
       "<Figure size 432x288 with 1 Axes>"
      ]
     },
     "metadata": {
      "needs_background": "light"
     },
     "output_type": "display_data"
    }
   ],
   "source": [
    "# 대졸자/대졸미만자의 대출 신청 수 - 대졸자가 압도적으로 많음\n",
    "sns.countplot(x='Education', data=loan_train)\n",
    "plt.title('학력별 대출 신청자')\n",
    "plt.show()"
   ]
  },
  {
   "cell_type": "code",
   "execution_count": 25,
   "id": "cc58c6f9",
   "metadata": {},
   "outputs": [
    {
     "data": {
      "image/png": "[encoded data removed]",
      "text/plain": [
       "<Figure size 432x288 with 1 Axes>"
      ]
     },
     "metadata": {
      "needs_background": "light"
     },
     "output_type": "display_data"
    }
   ],
   "source": [
    "# 대졸자의 경우 대출이 더 쉽게 나올까? (Education & Loan_Status) - 대졸자 71%, 대졸미만 61%로 대졸자가 더 유리해보임\n",
    "ax = sns.countplot(x='Education', hue='Loan_Status', data=loan_train)\n",
    "for value in ax.containers:\n",
    "    ax.bar_label(value)"
   ]
  },
  {
   "cell_type": "code",
   "execution_count": 26,
   "id": "2f9320d9",
   "metadata": {},
   "outputs": [
    {
     "data": {
      "image/png": "[encoded data removed]",
      "text/plain": [
       "<Figure size 432x288 with 1 Axes>"
      ]
     },
     "metadata": {
      "needs_background": "light"
     },
     "output_type": "display_data"
    }
   ],
   "source": [
    "# 대졸자/대졸미만자의 신용도 조건 충족 여부? - 대졸자 86%, 대졸미만자 79%로 대졸자가 조금 더 신용도 조건을 충족했음. 다만 신용도는 결측치가 많은 피쳐이므로 이를 참고해야 함\n",
    "ax = sns.countplot(x='Education', hue='Credit_History', data=loan_train)\n",
    "for value in ax.containers:\n",
    "    ax.bar_label(value)"
   ]
  },
  {
   "cell_type": "code",
   "execution_count": 27,
   "id": "9e8da5ce",
   "metadata": {},
   "outputs": [
    {
     "data": {
      "image/png": "[encoded data removed]",
      "text/plain": [
       "<Figure size 432x288 with 1 Axes>"
      ]
     },
     "metadata": {
      "needs_background": "light"
     },
     "output_type": "display_data"
    }
   ],
   "source": [
    "# 소득이 많을수록 대출하고자 하는 금액이 클까? (ApplicantIncome & LoanAmount) - 불분명함\n",
    "plt.scatter(loan_train['ApplicantIncome'], loan_train['LoanAmount'])\n",
    "plt.show()"
   ]
  },
  {
   "cell_type": "code",
   "execution_count": 28,
   "id": "f849beb7",
   "metadata": {},
   "outputs": [
    {
     "data": {
      "image/png": "[encoded data removed]",
      "text/plain": [
       "<Figure size 432x288 with 1 Axes>"
      ]
     },
     "metadata": {
      "needs_background": "light"
     },
     "output_type": "display_data"
    }
   ],
   "source": [
    "# 사는 지역에 따라 대졸 여부가 다를까? (Property_Area & Education) - Semiurban에서 대졸자/대졸미만자 차이가 제일 두드러짐\n",
    "ax = sns.countplot(x='Property_Area', hue='Education', data=loan_train)\n",
    "for value in ax.containers:\n",
    "    ax.bar_label(value)"
   ]
  },
  {
   "cell_type": "code",
   "execution_count": 29,
   "id": "0ee5d42c",
   "metadata": {
    "scrolled": true
   },
   "outputs": [
    {
     "data": {
      "image/png": "[encoded data removed]",
      "text/plain": [
       "<Figure size 432x288 with 1 Axes>"
      ]
     },
     "metadata": {
      "needs_background": "light"
     },
     "output_type": "display_data"
    }
   ],
   "source": [
    "# 사는 지역에 따라 대출 승인 여부가 다를까? (Property_Area & Loan_Status) - Urban 66%, Rural 61%, Semiurban 77%\n",
    "ax = sns.countplot(x='Property_Area', hue='Loan_Status', data=loan_train)\n",
    "for value in ax.containers:\n",
    "    ax.bar_label(value)"
   ]
  },
  {
   "cell_type": "code",
   "execution_count": 30,
   "id": "17475a85",
   "metadata": {},
   "outputs": [
    {
     "data": {
      "image/png": "[encoded data removed]",
      "text/plain": [
       "<Figure size 432x288 with 1 Axes>"
      ]
     },
     "metadata": {
      "needs_background": "light"
     },
     "output_type": "display_data"
    }
   ],
   "source": [
    "# 사는 지역에 따른 신용도 조건 충족 여부? (Property_Area & Credit_History) - Urban 83%, Rural 83%, Semiurban 86%\n",
    "ax = sns.countplot(x='Property_Area', hue='Credit_History', data=loan_train)\n",
    "for value in ax.containers:\n",
    "    ax.bar_label(value)"
   ]
  },
  {
   "cell_type": "code",
   "execution_count": 31,
   "id": "d31ecc11",
   "metadata": {
    "scrolled": true
   },
   "outputs": [
    {
     "data": {
      "image/png": "[encoded data removed]",
      "text/plain": [
       "<Figure size 432x288 with 1 Axes>"
      ]
     },
     "metadata": {
      "needs_background": "light"
     },
     "output_type": "display_data"
    }
   ],
   "source": [
    "# 대출 기간과 대출 여부에 상관관계가 있을까? (Loan_Amount_Term & Loan_Status) - 대출 승인비가 40년 신청 전후로 나뉨\n",
    "ax = sns.countplot(x='Loan_Amount_Term', hue='Loan_Status', data=loan_train)\n",
    "for value in ax.containers:\n",
    "    ax.bar_label(value)"
   ]
  },
  {
   "cell_type": "code",
   "execution_count": 32,
   "id": "9c895891",
   "metadata": {
    "scrolled": true
   },
   "outputs": [
    {
     "data": {
      "text/plain": [
       "<AxesSubplot:xlabel='Credit_History', ylabel='count'>"
      ]
     },
     "execution_count": 32,
     "metadata": {},
     "output_type": "execute_result"
    },
    {
     "data": {
      "image/png": "[encoded data removed]",
      "text/plain": [
       "<Figure size 432x288 with 1 Axes>"
      ]
     },
     "metadata": {
      "needs_background": "light"
     },
     "output_type": "display_data"
    }
   ],
   "source": [
    "# 신용도 충족에 따른 대출 승인 여부\n",
    "sns.countplot(x='Credit_History', hue='Loan_Status', data=loan_train)"
   ]
  },
  {
   "cell_type": "markdown",
   "id": "d490feff",
   "metadata": {},
   "source": [
    "### 2.3 결측치 확인"
   ]
  },
  {
   "cell_type": "code",
   "execution_count": 33,
   "id": "ae091045",
   "metadata": {},
   "outputs": [],
   "source": [
    "import missingno as msno"
   ]
  },
  {
   "cell_type": "code",
   "execution_count": 34,
   "id": "041a3211",
   "metadata": {
    "scrolled": false
   },
   "outputs": [
    {
     "data": {
      "text/plain": [
       "Credit_History       50\n",
       "Self_Employed        32\n",
       "LoanAmount           22\n",
       "Dependents           15\n",
       "Loan_Amount_Term     14\n",
       "Gender               13\n",
       "Married               3\n",
       "Loan_ID               0\n",
       "Education             0\n",
       "ApplicantIncome       0\n",
       "CoapplicantIncome     0\n",
       "Property_Area         0\n",
       "Loan_Status           0\n",
       "dtype: int64"
      ]
     },
     "execution_count": 34,
     "metadata": {},
     "output_type": "execute_result"
    }
   ],
   "source": [
    "# train data - 7개 feature\n",
    "loan_train.isnull().sum().sort_values(ascending=False)\n"
   ]
  },
  {
   "cell_type": "code",
   "execution_count": 35,
   "id": "eab9a190",
   "metadata": {},
   "outputs": [
    {
     "data": {
      "text/plain": [
       "<AxesSubplot:>"
      ]
     },
     "execution_count": 35,
     "metadata": {},
     "output_type": "execute_result"
    },
    {
     "data": {
      "image/png": "[encoded data removed]",
      "text/plain": [
       "<Figure size 1800x720 with 2 Axes>"
      ]
     },
     "metadata": {
      "needs_background": "light"
     },
     "output_type": "display_data"
    }
   ],
   "source": [
    "msno.matrix(loan_train)"
   ]
  },
  {
   "cell_type": "code",
   "execution_count": 36,
   "id": "d1eacb4f",
   "metadata": {},
   "outputs": [
    {
     "data": {
      "text/plain": [
       "Credit_History       29\n",
       "Self_Employed        23\n",
       "Gender               11\n",
       "Dependents           10\n",
       "Loan_Amount_Term      6\n",
       "LoanAmount            5\n",
       "Loan_ID               0\n",
       "Married               0\n",
       "Education             0\n",
       "ApplicantIncome       0\n",
       "CoapplicantIncome     0\n",
       "Property_Area         0\n",
       "dtype: int64"
      ]
     },
     "execution_count": 36,
     "metadata": {},
     "output_type": "execute_result"
    }
   ],
   "source": [
    "# test data - 6개 feature\n",
    "loan_test.isnull().sum().sort_values(ascending=False)\n"
   ]
  },
  {
   "cell_type": "code",
   "execution_count": 37,
   "id": "c7ce19fa",
   "metadata": {},
   "outputs": [
    {
     "data": {
      "text/plain": [
       "<AxesSubplot:>"
      ]
     },
     "execution_count": 37,
     "metadata": {},
     "output_type": "execute_result"
    },
    {
     "data": {
      "image/png": "[encoded data removed]",
      "text/plain": [
       "<Figure size 1800x720 with 2 Axes>"
      ]
     },
     "metadata": {
      "needs_background": "light"
     },
     "output_type": "display_data"
    }
   ],
   "source": [
    "msno.matrix(loan_test)"
   ]
  },
  {
   "cell_type": "markdown",
   "id": "7cd8e5b9",
   "metadata": {},
   "source": [
    "## 3. 데이터 전처리"
   ]
  },
  {
   "cell_type": "markdown",
   "id": "d33e1bb3",
   "metadata": {},
   "source": [
    "### 3.1 특성 제거"
   ]
  },
  {
   "cell_type": "code",
   "execution_count": 38,
   "id": "2a26a2e0",
   "metadata": {},
   "outputs": [
    {
     "name": "stdout",
     "output_type": "stream",
     "text": [
      "(614, 13)\n"
     ]
    },
    {
     "data": {
      "text/plain": [
       "(367, 12)"
      ]
     },
     "execution_count": 38,
     "metadata": {},
     "output_type": "execute_result"
    }
   ],
   "source": [
    "print(loan_train.shape)\n",
    "loan_test.shape"
   ]
  },
  {
   "cell_type": "code",
   "execution_count": 39,
   "id": "1260a09b",
   "metadata": {},
   "outputs": [],
   "source": [
    "# Loan_ID 컬럼 제거\n",
    "loan_train.drop('Loan_ID', axis=1, inplace=True)\n",
    "loan_test.drop('Loan_ID', axis=1, inplace=True)"
   ]
  },
  {
   "cell_type": "code",
   "execution_count": 40,
   "id": "dfea50b4",
   "metadata": {},
   "outputs": [
    {
     "name": "stdout",
     "output_type": "stream",
     "text": [
      "(614, 12)\n"
     ]
    },
    {
     "data": {
      "text/plain": [
       "(367, 11)"
      ]
     },
     "execution_count": 40,
     "metadata": {},
     "output_type": "execute_result"
    }
   ],
   "source": [
    "print(loan_train.shape)\n",
    "loan_test.shape"
   ]
  },
  {
   "cell_type": "code",
   "execution_count": 41,
   "id": "375ca2ea",
   "metadata": {},
   "outputs": [
    {
     "name": "stdout",
     "output_type": "stream",
     "text": [
      "<class 'pandas.core.frame.DataFrame'>\n",
      "RangeIndex: 614 entries, 0 to 613\n",
      "Data columns (total 12 columns):\n",
      " #   Column             Non-Null Count  Dtype  \n",
      "---  ------             --------------  -----  \n",
      " 0   Gender             601 non-null    object \n",
      " 1   Married            611 non-null    object \n",
      " 2   Dependents         599 non-null    object \n",
      " 3   Education          614 non-null    object \n",
      " 4   Self_Employed      582 non-null    object \n",
      " 5   ApplicantIncome    614 non-null    int64  \n",
      " 6   CoapplicantIncome  614 non-null    float64\n",
      " 7   LoanAmount         592 non-null    float64\n",
      " 8   Loan_Amount_Term   600 non-null    float64\n",
      " 9   Credit_History     564 non-null    float64\n",
      " 10  Property_Area      614 non-null    object \n",
      " 11  Loan_Status        614 non-null    object \n",
      "dtypes: float64(4), int64(1), object(7)\n",
      "memory usage: 57.7+ KB\n"
     ]
    }
   ],
   "source": [
    "loan_train.info()"
   ]
  },
  {
   "cell_type": "markdown",
   "id": "8a52e55f",
   "metadata": {},
   "source": [
    "### 3.2 데이터 변환"
   ]
  },
  {
   "cell_type": "code",
   "execution_count": 42,
   "id": "40b5a611",
   "metadata": {},
   "outputs": [
    {
     "data": {
      "text/plain": [
       "('LoanAmount', 'Loan_Amount_Term')"
      ]
     },
     "execution_count": 42,
     "metadata": {},
     "output_type": "execute_result"
    }
   ],
   "source": [
    "# categorical feature(8)\n",
    "'Gender', 'Married', 'Dependents', 'Education', 'Self_Employed'\n",
    "'Credit_History', 'Property_Area', 'Loan_Status(test X)'\n",
    "# 결측 데이터(5)\n",
    "'Gender', 'Married(test X)', 'Dependents', 'Self_Employed', 'Credit_History'\n",
    "\n",
    "# Numerical feature(4)\n",
    "'ApplicantIncome', 'CoapplicantIncome', \n",
    "'LoanAmount', 'Loan_Amount_Term'\n",
    "# 결측 데이터(2)\n",
    "'LoanAmount', 'Loan_Amount_Term'"
   ]
  },
  {
   "cell_type": "markdown",
   "id": "986ac2ef",
   "metadata": {},
   "source": [
    "**변환 :    문자형 -> 수치형**\n",
    "```\n",
    "1. Gender --------------> Male/ Female\n",
    "-> 1/0\n",
    "2. Married --------------> Applicant married (Y/N)\n",
    "-> 1/0\n",
    "3. Education -------------> Applicant Education (Graduate/ Under Graduate)\n",
    "-> 1/0\n",
    "4. Self_Employed ---------> Self-employed (Y/N)\n",
    "-> 1/0\n",
    "5. Loan_Status -----------> Loan approved (Y/N)\n",
    "-> 1/0\n",
    "\n",
    "1. Dependents ------------> Number of dependents\n",
    "-> 원핫인코딩\n",
    "2. Property_Area ---------> Urban/ Semi-Urban/ Rural\n",
    "-> 원핫인코딩\n",
    "\n",
    "```"
   ]
  },
  {
   "cell_type": "code",
   "execution_count": 43,
   "id": "8a5e36b0",
   "metadata": {},
   "outputs": [],
   "source": [
    "# 변환 : categorical(object) -> numerical\n",
    "# loan_train(5)  --> Credit_History(not object), Property_Area,(원핫), Dependents(원핫)\n",
    "loan_train.Gender = loan_train.Gender.replace({\"Male\": 1, \"Female\" : 0})\n",
    "loan_train.Married = loan_train.Married.replace({\"Yes\":1, \"No\":0})\n",
    "loan_train.Education = loan_train.Education.replace({\"Graduate\":1, \"Not Graduate\":0})\n",
    "loan_train.Self_Employed = loan_train.Self_Employed.replace({\"Yes\":1, \"No\":0})\n",
    "loan_train.Loan_Status = loan_train.Loan_Status.replace({\"Y\":1, \"N\":0})\n",
    "\n",
    "# loan_test(4)\n",
    "loan_test.Gender = loan_test.Gender.replace({\"Male\": 1, \"Female\" : 0})\n",
    "loan_test.Married = loan_test.Married.replace({\"Yes\":1, \"No\":0})\n",
    "loan_test.Education = loan_test.Education.replace({\"Graduate\":1, \"Not Graduate\":0})\n",
    "loan_test.Self_Employed = loan_test.Self_Employed.replace({\"Yes\":1, \"No\":0})"
   ]
  },
  {
   "cell_type": "markdown",
   "id": "638123d2",
   "metadata": {},
   "source": [
    "### 3.3 결측치 채우기"
   ]
  },
  {
   "cell_type": "code",
   "execution_count": 44,
   "id": "20e8799d",
   "metadata": {},
   "outputs": [],
   "source": [
    "# train data\n",
    "# categorical data (mode : 최빈값)\n",
    "loan_train['Gender'].fillna(loan_train['Gender'].mode()[0], inplace=True)\n",
    "loan_train['Married'].fillna(loan_train['Married'].mode()[0], inplace=True)\n",
    "loan_train['Dependents'].fillna(loan_train['Dependents'].mode()[0], inplace=True)\n",
    "loan_train['Self_Employed'].fillna(loan_train['Self_Employed'].mode()[0], inplace=True)\n",
    "loan_train['Credit_History'].fillna(loan_train['Credit_History'].mode()[0], inplace=True)\n",
    "\n",
    "# numerical data (mean : 평균값)\n",
    "# 'LoanAmount', 'Loan_Amount_Term'\n",
    "loan_train['LoanAmount'].fillna(loan_train['LoanAmount'].mean(), inplace=True)\n",
    "loan_train['Loan_Amount_Term'].fillna(loan_train['Loan_Amount_Term'].mean(), inplace=True)"
   ]
  },
  {
   "cell_type": "code",
   "execution_count": 45,
   "id": "ad69e508",
   "metadata": {},
   "outputs": [],
   "source": [
    "# test data\n",
    "# categorical data (mode : 최빈값)\n",
    "loan_test['Gender'].fillna(loan_test['Gender'].mode()[0], inplace=True)\n",
    "loan_test['Dependents'].fillna(loan_test['Dependents'].mode()[0], inplace=True)\n",
    "loan_test['Self_Employed'].fillna(loan_test['Self_Employed'].mode()[0], inplace=True)\n",
    "loan_test['Credit_History'].fillna(loan_test['Credit_History'].mode()[0], inplace=True)\n",
    "\n",
    "# numerical data (mean : 평균값)\n",
    "# 'LoanAmount', 'Loan_Amount_Term'\n",
    "loan_test['LoanAmount'].fillna(loan_test['LoanAmount'].mean(), inplace=True)\n",
    "loan_test['Loan_Amount_Term'].fillna(loan_test['Loan_Amount_Term'].mean(), inplace=True)"
   ]
  },
  {
   "cell_type": "code",
   "execution_count": 46,
   "id": "4356d791",
   "metadata": {},
   "outputs": [
    {
     "data": {
      "text/plain": [
       "Gender               0\n",
       "Married              0\n",
       "Dependents           0\n",
       "Education            0\n",
       "Self_Employed        0\n",
       "ApplicantIncome      0\n",
       "CoapplicantIncome    0\n",
       "LoanAmount           0\n",
       "Loan_Amount_Term     0\n",
       "Credit_History       0\n",
       "Property_Area        0\n",
       "Loan_Status          0\n",
       "dtype: int64"
      ]
     },
     "execution_count": 46,
     "metadata": {},
     "output_type": "execute_result"
    }
   ],
   "source": [
    "# train data 확인\n",
    "loan_train.isnull().sum()"
   ]
  },
  {
   "cell_type": "code",
   "execution_count": 47,
   "id": "b927a655",
   "metadata": {},
   "outputs": [
    {
     "data": {
      "text/plain": [
       "Gender               0\n",
       "Married              0\n",
       "Dependents           0\n",
       "Education            0\n",
       "Self_Employed        0\n",
       "ApplicantIncome      0\n",
       "CoapplicantIncome    0\n",
       "LoanAmount           0\n",
       "Loan_Amount_Term     0\n",
       "Credit_History       0\n",
       "Property_Area        0\n",
       "dtype: int64"
      ]
     },
     "execution_count": 47,
     "metadata": {},
     "output_type": "execute_result"
    }
   ],
   "source": [
    "# test data 확인\n",
    "loan_test.isnull().sum()"
   ]
  },
  {
   "cell_type": "markdown",
   "id": "3d758772",
   "metadata": {},
   "source": [
    "### 3.4 원핫인코딩"
   ]
  },
  {
   "cell_type": "code",
   "execution_count": 48,
   "id": "304f6c18",
   "metadata": {},
   "outputs": [
    {
     "data": {
      "text/plain": [
       "array(['0', '1', '2', '3+'], dtype=object)"
      ]
     },
     "execution_count": 48,
     "metadata": {},
     "output_type": "execute_result"
    }
   ],
   "source": [
    "loan_train['Dependents'].unique()"
   ]
  },
  {
   "cell_type": "code",
   "execution_count": 49,
   "id": "8336b5ee",
   "metadata": {},
   "outputs": [
    {
     "data": {
      "text/plain": [
       "array(['Urban', 'Rural', 'Semiurban'], dtype=object)"
      ]
     },
     "execution_count": 49,
     "metadata": {},
     "output_type": "execute_result"
    }
   ],
   "source": [
    "loan_train['Property_Area'].unique()"
   ]
  },
  {
   "cell_type": "code",
   "execution_count": 50,
   "id": "5abe4a00",
   "metadata": {},
   "outputs": [],
   "source": [
    "# Dependents, Property_Area 원핫인코딩\n",
    "dummies1 = pd.get_dummies(loan_train['Dependents'], prefix='Dependents')\n",
    "loan_train = pd.concat([loan_train, dummies1], axis=1)\n",
    "\n",
    "dummies2 = pd.get_dummies(loan_test['Dependents'], prefix='Dependents')\n",
    "loan_test = pd.concat([loan_test, dummies2], axis=1)\n",
    "\n",
    "dummies3 = pd.get_dummies(loan_train['Property_Area'], prefix='Property_Area')\n",
    "loan_train = pd.concat([loan_train, dummies3], axis=1)\n",
    "\n",
    "dummies4 = pd.get_dummies(loan_test['Property_Area'], prefix='Property_Area')\n",
    "loan_test = pd.concat([loan_test, dummies4], axis=1)"
   ]
  },
  {
   "cell_type": "code",
   "execution_count": 51,
   "id": "77f3fca2",
   "metadata": {},
   "outputs": [],
   "source": [
    "# 기존 컬럼 Dependents, Property_Area 삭제\n",
    "loan_train = loan_train.drop(columns=['Dependents', 'Property_Area'], axis=1)\n",
    "loan_test = loan_test.drop(columns=['Dependents', 'Property_Area'], axis=1)"
   ]
  },
  {
   "cell_type": "code",
   "execution_count": 52,
   "id": "fec925da",
   "metadata": {
    "scrolled": false
   },
   "outputs": [
    {
     "name": "stdout",
     "output_type": "stream",
     "text": [
      "<class 'pandas.core.frame.DataFrame'>\n",
      "RangeIndex: 614 entries, 0 to 613\n",
      "Data columns (total 17 columns):\n",
      " #   Column                   Non-Null Count  Dtype  \n",
      "---  ------                   --------------  -----  \n",
      " 0   Gender                   614 non-null    float64\n",
      " 1   Married                  614 non-null    float64\n",
      " 2   Education                614 non-null    int64  \n",
      " 3   Self_Employed            614 non-null    float64\n",
      " 4   ApplicantIncome          614 non-null    int64  \n",
      " 5   CoapplicantIncome        614 non-null    float64\n",
      " 6   LoanAmount               614 non-null    float64\n",
      " 7   Loan_Amount_Term         614 non-null    float64\n",
      " 8   Credit_History           614 non-null    float64\n",
      " 9   Loan_Status              614 non-null    int64  \n",
      " 10  Dependents_0             614 non-null    uint8  \n",
      " 11  Dependents_1             614 non-null    uint8  \n",
      " 12  Dependents_2             614 non-null    uint8  \n",
      " 13  Dependents_3+            614 non-null    uint8  \n",
      " 14  Property_Area_Rural      614 non-null    uint8  \n",
      " 15  Property_Area_Semiurban  614 non-null    uint8  \n",
      " 16  Property_Area_Urban      614 non-null    uint8  \n",
      "dtypes: float64(7), int64(3), uint8(7)\n",
      "memory usage: 52.3 KB\n"
     ]
    }
   ],
   "source": [
    "# 특성 최종 버전\n",
    "loan_train.info()"
   ]
  },
  {
   "cell_type": "markdown",
   "id": "c39cc7ff",
   "metadata": {},
   "source": [
    "### 3.5 Target과의 상관계수 확인"
   ]
  },
  {
   "cell_type": "code",
   "execution_count": 53,
   "id": "eaee3343",
   "metadata": {},
   "outputs": [
    {
     "data": {
      "text/plain": [
       "<AxesSubplot:>"
      ]
     },
     "execution_count": 53,
     "metadata": {},
     "output_type": "execute_result"
    },
    {
     "data": {
      "image/png": "[encoded data removed]",
      "text/plain": [
       "<Figure size 864x576 with 2 Axes>"
      ]
     },
     "metadata": {
      "needs_background": "light"
     },
     "output_type": "display_data"
    }
   ],
   "source": [
    "plt.figure(figsize=(12,8))\n",
    "sns.heatmap(loan_train.corr(),cmap='coolwarm', annot=True, fmt='.2f', linewidths=.1)\n",
    "# Credit_History(0.54), Semiurban(0.14), Rural(-0.10), \n",
    "# Married(0.09), Education(0.09), Dependents2(0.06), \n",
    "# CoapplicantIncome(-0.06)"
   ]
  },
  {
   "cell_type": "code",
   "execution_count": 54,
   "id": "7b417940",
   "metadata": {},
   "outputs": [
    {
     "name": "stdout",
     "output_type": "stream",
     "text": [
      "<class 'pandas.core.frame.DataFrame'>\n",
      "RangeIndex: 367 entries, 0 to 366\n",
      "Data columns (total 16 columns):\n",
      " #   Column                   Non-Null Count  Dtype  \n",
      "---  ------                   --------------  -----  \n",
      " 0   Gender                   367 non-null    float64\n",
      " 1   Married                  367 non-null    int64  \n",
      " 2   Education                367 non-null    int64  \n",
      " 3   Self_Employed            367 non-null    float64\n",
      " 4   ApplicantIncome          367 non-null    int64  \n",
      " 5   CoapplicantIncome        367 non-null    int64  \n",
      " 6   LoanAmount               367 non-null    float64\n",
      " 7   Loan_Amount_Term         367 non-null    float64\n",
      " 8   Credit_History           367 non-null    float64\n",
      " 9   Dependents_0             367 non-null    uint8  \n",
      " 10  Dependents_1             367 non-null    uint8  \n",
      " 11  Dependents_2             367 non-null    uint8  \n",
      " 12  Dependents_3+            367 non-null    uint8  \n",
      " 13  Property_Area_Rural      367 non-null    uint8  \n",
      " 14  Property_Area_Semiurban  367 non-null    uint8  \n",
      " 15  Property_Area_Urban      367 non-null    uint8  \n",
      "dtypes: float64(5), int64(4), uint8(7)\n",
      "memory usage: 28.4 KB\n"
     ]
    }
   ],
   "source": [
    "loan_test.info()"
   ]
  },
  {
   "cell_type": "code",
   "execution_count": 55,
   "id": "387912b5",
   "metadata": {},
   "outputs": [],
   "source": [
    "X_train = loan_train.drop(columns='Loan_Status',axis=1).values\n",
    "y_train = loan_train['Loan_Status'].values"
   ]
  },
  {
   "cell_type": "code",
   "execution_count": 56,
   "id": "4161d535",
   "metadata": {},
   "outputs": [],
   "source": [
    "from sklearn.model_selection import cross_val_score\n",
    "from sklearn.svm import LinearSVC"
   ]
  },
  {
   "cell_type": "code",
   "execution_count": 57,
   "id": "711d3860",
   "metadata": {},
   "outputs": [
    {
     "data": {
      "text/plain": [
       "LinearSVC(random_state=42)"
      ]
     },
     "execution_count": 57,
     "metadata": {},
     "output_type": "execute_result"
    }
   ],
   "source": [
    "svm_clf = LinearSVC(random_state=42)\n",
    "svm_clf.fit(X_train, y_train)"
   ]
  },
  {
   "cell_type": "code",
   "execution_count": 58,
   "id": "a645d999",
   "metadata": {},
   "outputs": [
    {
     "name": "stdout",
     "output_type": "stream",
     "text": [
      "0.6856677524429967\n"
     ]
    }
   ],
   "source": [
    "print(svm_clf.score(X_train, y_train))"
   ]
  },
  {
   "cell_type": "code",
   "execution_count": 59,
   "id": "0703b67d",
   "metadata": {},
   "outputs": [
    {
     "name": "stdout",
     "output_type": "stream",
     "text": [
      "0.6910569105691057\n",
      "0.3089430894308943\n",
      "0.6829268292682927\n",
      "0.45528455284552843\n",
      "0.3114754098360656\n"
     ]
    }
   ],
   "source": [
    "from sklearn.model_selection import StratifiedKFold \n",
    "from sklearn.base import clone\n",
    "skfols=StratifiedKFold(n_splits=5, random_state=42, shuffle=True)\n",
    "for train_index, test_index in skfols.split(X_train, y_train):\n",
    "    clone_clf = clone(svm_clf)\n",
    "    x_train_folds = X_train[train_index]\n",
    "    y_train_folds = y_train[train_index]\n",
    "    x_test_fold = X_train[test_index]\n",
    "    y_test_fold = y_train[test_index]\n",
    "    clone_clf.fit(x_train_folds, y_train_folds)\n",
    "    y_pred = clone_clf.predict(x_test_fold)\n",
    "    n_correct = sum(y_pred == y_test_fold)\n",
    "    print(n_correct/ len(y_pred))"
   ]
  },
  {
   "cell_type": "code",
   "execution_count": 60,
   "id": "a2e4e117",
   "metadata": {},
   "outputs": [
    {
     "data": {
      "text/plain": [
       "array([0.69105691, 0.69105691, 0.68292683, 0.68292683, 0.6557377 ])"
      ]
     },
     "execution_count": 60,
     "metadata": {},
     "output_type": "execute_result"
    }
   ],
   "source": [
    "cross_val_score(svm_clf, X_train, y_train, cv=5)"
   ]
  },
  {
   "cell_type": "code",
   "execution_count": 61,
   "id": "f2c72764",
   "metadata": {},
   "outputs": [],
   "source": [
    "# Credit_History(0.54), Semiurban(0.14), Rural(-0.10), \n",
    "# Married(0.09), Education(0.09), Dependents2(0.06), \n",
    "# CoapplicantIncome(-0.06)\n",
    "X_train = loan_train[['Credit_History','Married','Property_Area_Semiurban','Property_Area_Rural','CoapplicantIncome','Education','Dependents_2']].values\n",
    "y_train = loan_train['Loan_Status'].values"
   ]
  },
  {
   "cell_type": "code",
   "execution_count": 62,
   "id": "b84599bf",
   "metadata": {},
   "outputs": [
    {
     "data": {
      "text/plain": [
       "LinearSVC(random_state=42)"
      ]
     },
     "execution_count": 62,
     "metadata": {},
     "output_type": "execute_result"
    }
   ],
   "source": [
    "svm_clf = LinearSVC(random_state=42)\n",
    "svm_clf.fit(X_train, y_train)"
   ]
  },
  {
   "cell_type": "code",
   "execution_count": 63,
   "id": "9bf77594",
   "metadata": {},
   "outputs": [
    {
     "name": "stdout",
     "output_type": "stream",
     "text": [
      "0.7964169381107492\n"
     ]
    }
   ],
   "source": [
    "print(svm_clf.score(X_train, y_train))"
   ]
  },
  {
   "cell_type": "code",
   "execution_count": 64,
   "id": "acfaf922",
   "metadata": {},
   "outputs": [
    {
     "data": {
      "text/plain": [
       "array([0.81300813, 0.74796748, 0.76422764, 0.85365854, 0.75409836])"
      ]
     },
     "execution_count": 64,
     "metadata": {},
     "output_type": "execute_result"
    }
   ],
   "source": [
    "cross_val_score(svm_clf, X_train, y_train, cv=5)"
   ]
  },
  {
   "cell_type": "code",
   "execution_count": 65,
   "id": "d01e6f5c",
   "metadata": {},
   "outputs": [
    {
     "name": "stdout",
     "output_type": "stream",
     "text": [
      "0.8130081300813008\n",
      "0.7723577235772358\n",
      "0.8048780487804879\n",
      "0.5853658536585366\n",
      "0.8032786885245902\n"
     ]
    }
   ],
   "source": [
    "from sklearn.model_selection import StratifiedKFold \n",
    "from sklearn.base import clone\n",
    "skfols=StratifiedKFold(n_splits=5, random_state=42, shuffle=True)\n",
    "for train_index, test_index in skfols.split(X_train, y_train):\n",
    "    clone_clf = clone(svm_clf)\n",
    "    x_train_folds = X_train[train_index]\n",
    "    y_train_folds = y_train[train_index]\n",
    "    x_test_fold = X_train[test_index]\n",
    "    y_test_fold = y_train[test_index]\n",
    "    clone_clf.fit(x_train_folds, y_train_folds)\n",
    "    y_pred = clone_clf.predict(x_test_fold)\n",
    "    n_correct = sum(y_pred == y_test_fold)\n",
    "    print(n_correct/ len(y_pred))"
   ]
  },
  {
   "cell_type": "markdown",
   "id": "8b1c58c1",
   "metadata": {},
   "source": [
    "### 스케일링"
   ]
  },
  {
   "cell_type": "code",
   "execution_count": 66,
   "id": "9a318b05",
   "metadata": {},
   "outputs": [],
   "source": [
    "from sklearn.preprocessing import StandardScaler"
   ]
  },
  {
   "cell_type": "code",
   "execution_count": 67,
   "id": "b9b748d8",
   "metadata": {},
   "outputs": [],
   "source": [
    "temp_col = ['Credit_History','Married','Property_Area_Semiurban','Property_Area_Rural','Education','Dependents_2']\n",
    "std_scaler_col = ['CoapplicantIncome']\n",
    "std_scaler = StandardScaler()\n",
    "\n",
    "X_train = loan_train[temp_col]\n",
    "X_train['CoapplicantIncome']=std_scaler.fit_transform(loan_train[std_scaler_col])"
   ]
  },
  {
   "cell_type": "code",
   "execution_count": 68,
   "id": "1527eaaa",
   "metadata": {},
   "outputs": [
    {
     "data": {
      "text/plain": [
       "LinearSVC(random_state=42)"
      ]
     },
     "execution_count": 68,
     "metadata": {},
     "output_type": "execute_result"
    }
   ],
   "source": [
    "svm_clf = LinearSVC(random_state=42)\n",
    "svm_clf.fit(X_train, y_train)"
   ]
  },
  {
   "cell_type": "code",
   "execution_count": 69,
   "id": "e4c979e8",
   "metadata": {},
   "outputs": [
    {
     "name": "stdout",
     "output_type": "stream",
     "text": [
      "0.8127035830618893\n"
     ]
    }
   ],
   "source": [
    "print(svm_clf.score(X_train, y_train))"
   ]
  },
  {
   "cell_type": "code",
   "execution_count": 70,
   "id": "688633c0",
   "metadata": {},
   "outputs": [
    {
     "data": {
      "text/plain": [
       "array([0.81300813, 0.7804878 , 0.7804878 , 0.85365854, 0.81967213])"
      ]
     },
     "execution_count": 70,
     "metadata": {},
     "output_type": "execute_result"
    }
   ],
   "source": [
    "cross_val_score(svm_clf, X_train, y_train, cv=5)"
   ]
  },
  {
   "cell_type": "code",
   "execution_count": 71,
   "id": "c87d1ca3",
   "metadata": {},
   "outputs": [],
   "source": [
    "X_train_k=X_train.values"
   ]
  },
  {
   "cell_type": "code",
   "execution_count": 72,
   "id": "b77bd63e",
   "metadata": {},
   "outputs": [
    {
     "name": "stdout",
     "output_type": "stream",
     "text": [
      "0.8211382113821138\n",
      "0.8211382113821138\n",
      "0.8048780487804879\n",
      "0.7886178861788617\n",
      "0.8278688524590164\n"
     ]
    }
   ],
   "source": [
    "from sklearn.model_selection import StratifiedKFold \n",
    "from sklearn.base import clone\n",
    "skfols=StratifiedKFold(n_splits=5, random_state=42, shuffle=True)\n",
    "for train_index, test_index in skfols.split(X_train_k, y_train):\n",
    "    clone_clf = clone(svm_clf)\n",
    "    x_train_folds = X_train_k[train_index]\n",
    "    y_train_folds = y_train[train_index]\n",
    "    x_test_fold = X_train_k[test_index]\n",
    "    y_test_fold = y_train[test_index]\n",
    "    clone_clf.fit(x_train_folds, y_train_folds)\n",
    "    y_pred = clone_clf.predict(x_test_fold)\n",
    "    n_correct = sum(y_pred == y_test_fold)\n",
    "    print(n_correct/ len(y_pred))"
   ]
  },
  {
   "cell_type": "markdown",
   "id": "ae711bd9",
   "metadata": {},
   "source": [
    "### 그리드 서치"
   ]
  },
  {
   "cell_type": "code",
   "execution_count": 73,
   "id": "f55495fd",
   "metadata": {},
   "outputs": [],
   "source": [
    "from sklearn.model_selection import GridSearchCV"
   ]
  },
  {
   "cell_type": "code",
   "execution_count": 74,
   "id": "ab26c9ab",
   "metadata": {},
   "outputs": [
    {
     "name": "stdout",
     "output_type": "stream",
     "text": [
      "CPU times: total: 2.02 s\n",
      "Wall time: 14.1 s\n"
     ]
    },
    {
     "data": {
      "text/plain": [
       "GridSearchCV(cv=5, estimator=LinearSVC(random_state=42), n_jobs=-1,\n",
       "             param_grid=[{'C': ['auto', 'scale', 1000, 100, 10, 1, 0.1, 0.01,\n",
       "                                0.001, 0.0001],\n",
       "                          'max_iter': ['auto', 'scale', 1000, 100, 10, 1, 0.1,\n",
       "                                       0.01, 0.001, 0.0001],\n",
       "                          'tol': ['auto', 'scale', 1000, 100, 10, 1, 0.1, 0.01,\n",
       "                                  0.001, 0.0001]}],\n",
       "             return_train_score=True)"
      ]
     },
     "execution_count": 74,
     "metadata": {},
     "output_type": "execute_result"
    }
   ],
   "source": [
    "param_grid = [{\n",
    "    'C': ['auto','scale',1000,100,10,1,0.1,0.01,0.001,0.0001],\n",
    "    'tol' : ['auto','scale',1000,100,10,1,0.1,0.01,0.001,0.0001],\n",
    "    'max_iter' : ['auto','scale',1000,100,10,1,0.1,0.01,0.001,0.0001]\n",
    "    }]\n",
    "svm_clf = LinearSVC(random_state=42)\n",
    "grid_search = GridSearchCV(svm_clf, param_grid, cv=5,\n",
    "                           return_train_score=True, n_jobs=-1)\n",
    "%time grid_search.fit(X_train, y_train)"
   ]
  },
  {
   "cell_type": "code",
   "execution_count": 75,
   "id": "de7df60b",
   "metadata": {},
   "outputs": [
    {
     "data": {
      "text/plain": [
       "{'C': 10, 'max_iter': 100, 'tol': 1}"
      ]
     },
     "execution_count": 75,
     "metadata": {},
     "output_type": "execute_result"
    }
   ],
   "source": [
    "grid_search.best_params_"
   ]
  },
  {
   "cell_type": "code",
   "execution_count": 76,
   "id": "261a82ad",
   "metadata": {},
   "outputs": [
    {
     "data": {
      "text/plain": [
       "LinearSVC(C=10, max_iter=100, random_state=42, tol=1000)"
      ]
     },
     "execution_count": 76,
     "metadata": {},
     "output_type": "execute_result"
    }
   ],
   "source": [
    "svm_clf_best = LinearSVC(random_state=42, C=10, tol=1000, max_iter=100)\n",
    "svm_clf_best.fit(X_train, y_train)"
   ]
  },
  {
   "cell_type": "code",
   "execution_count": 77,
   "id": "95b114f9",
   "metadata": {},
   "outputs": [
    {
     "name": "stdout",
     "output_type": "stream",
     "text": [
      "0.7736156351791531\n"
     ]
    }
   ],
   "source": [
    "print(svm_clf_best.score(X_train, y_train))"
   ]
  },
  {
   "cell_type": "code",
   "execution_count": 78,
   "id": "5fbc2b9a",
   "metadata": {},
   "outputs": [
    {
     "data": {
      "text/plain": [
       "array([0.81300813, 0.7804878 , 0.7804878 , 0.85365854, 0.81147541])"
      ]
     },
     "execution_count": 78,
     "metadata": {},
     "output_type": "execute_result"
    }
   ],
   "source": [
    "cross_val_score(svm_clf_best, X_train, y_train, cv=5)"
   ]
  },
  {
   "cell_type": "code",
   "execution_count": 79,
   "id": "d34d58b5",
   "metadata": {},
   "outputs": [
    {
     "data": {
      "text/plain": [
       "array([0.81300813, 0.7804878 , 0.7804878 , 0.85365854, 0.81967213])"
      ]
     },
     "execution_count": 79,
     "metadata": {},
     "output_type": "execute_result"
    }
   ],
   "source": [
    "cross_val_score(svm_clf, X_train, y_train, cv=5)"
   ]
  },
  {
   "cell_type": "markdown",
   "id": "ae71938b",
   "metadata": {},
   "source": [
    "### 불균형한 데이터셋에서 사용하는 K-Fold기법"
   ]
  },
  {
   "cell_type": "code",
   "execution_count": 80,
   "id": "6f753885",
   "metadata": {},
   "outputs": [],
   "source": [
    "X_train_k=X_train.values"
   ]
  },
  {
   "cell_type": "code",
   "execution_count": 81,
   "id": "bc955a7f",
   "metadata": {},
   "outputs": [
    {
     "name": "stdout",
     "output_type": "stream",
     "text": [
      "0.8130081300813008\n",
      "0.7967479674796748\n",
      "0.7560975609756098\n",
      "0.7479674796747967\n",
      "0.5491803278688525\n"
     ]
    }
   ],
   "source": [
    "from sklearn.model_selection import StratifiedKFold \n",
    "from sklearn.base import clone\n",
    "skfols=StratifiedKFold(n_splits=5, random_state=42, shuffle=True)\n",
    "for train_index, test_index in skfols.split(X_train_k, y_train):\n",
    "    clone_clf = clone(svm_clf_best)\n",
    "    x_train_folds = X_train_k[train_index]\n",
    "    y_train_folds = y_train[train_index]\n",
    "    x_test_fold = X_train_k[test_index]\n",
    "    y_test_fold = y_train[test_index]\n",
    "    clone_clf.fit(x_train_folds, y_train_folds)\n",
    "    y_pred = clone_clf.predict(x_test_fold)\n",
    "    n_correct = sum(y_pred == y_test_fold)\n",
    "    print(n_correct/ len(y_pred))"
   ]
  },
  {
   "cell_type": "code",
   "execution_count": 82,
   "id": "4fa312ba",
   "metadata": {},
   "outputs": [
    {
     "name": "stdout",
     "output_type": "stream",
     "text": [
      "0.8211382113821138\n",
      "0.8211382113821138\n",
      "0.8048780487804879\n",
      "0.7886178861788617\n",
      "0.8278688524590164\n"
     ]
    }
   ],
   "source": [
    "from sklearn.model_selection import StratifiedKFold \n",
    "from sklearn.base import clone\n",
    "skfols=StratifiedKFold(n_splits=5, random_state=42, shuffle=True)\n",
    "for train_index, test_index in skfols.split(X_train_k, y_train):\n",
    "    clone_clf = clone(svm_clf)\n",
    "    x_train_folds = X_train_k[train_index]\n",
    "    y_train_folds = y_train[train_index]\n",
    "    x_test_fold = X_train_k[test_index]\n",
    "    y_test_fold = y_train[test_index]\n",
    "    clone_clf.fit(x_train_folds, y_train_folds)\n",
    "    y_pred = clone_clf.predict(x_test_fold)\n",
    "    n_correct = sum(y_pred == y_test_fold)\n",
    "    print(n_correct/ len(y_pred))"
   ]
  },
  {
   "cell_type": "markdown",
   "id": "8e1856eb",
   "metadata": {},
   "source": [
    "### 테스트 데이터 예측"
   ]
  },
  {
   "cell_type": "code",
   "execution_count": 83,
   "id": "3b64788d",
   "metadata": {},
   "outputs": [],
   "source": [
    "temp_col = ['Credit_History','Married','Property_Area_Semiurban','Property_Area_Rural','Education','Dependents_2']\n",
    "std_scaler_col = ['CoapplicantIncome']\n",
    "std_scaler = StandardScaler()\n",
    "\n",
    "X_test = loan_test[temp_col]\n",
    "X_test['CoapplicantIncome']=std_scaler.fit_transform(loan_test[std_scaler_col])"
   ]
  },
  {
   "cell_type": "code",
   "execution_count": 84,
   "id": "24dff9ba",
   "metadata": {},
   "outputs": [
    {
     "data": {
      "text/html": [
       "<div>\n",
       "<style scoped>\n",
       "    .dataframe tbody tr th:only-of-type {\n",
       "        vertical-align: middle;\n",
       "    }\n",
       "\n",
       "    .dataframe tbody tr th {\n",
       "        vertical-align: top;\n",
       "    }\n",
       "\n",
       "    .dataframe thead th {\n",
       "        text-align: right;\n",
       "    }\n",
       "</style>\n",
       "<table border=\"1\" class=\"dataframe\">\n",
       "  <thead>\n",
       "    <tr style=\"text-align: right;\">\n",
       "      <th></th>\n",
       "      <th>Credit_History</th>\n",
       "      <th>Married</th>\n",
       "      <th>Property_Area_Semiurban</th>\n",
       "      <th>Property_Area_Rural</th>\n",
       "      <th>Education</th>\n",
       "      <th>Dependents_2</th>\n",
       "      <th>CoapplicantIncome</th>\n",
       "    </tr>\n",
       "  </thead>\n",
       "  <tbody>\n",
       "    <tr>\n",
       "      <th>0</th>\n",
       "      <td>1.0</td>\n",
       "      <td>1</td>\n",
       "      <td>0</td>\n",
       "      <td>0</td>\n",
       "      <td>1</td>\n",
       "      <td>0</td>\n",
       "      <td>-0.673335</td>\n",
       "    </tr>\n",
       "    <tr>\n",
       "      <th>1</th>\n",
       "      <td>1.0</td>\n",
       "      <td>1</td>\n",
       "      <td>0</td>\n",
       "      <td>0</td>\n",
       "      <td>1</td>\n",
       "      <td>0</td>\n",
       "      <td>-0.029848</td>\n",
       "    </tr>\n",
       "    <tr>\n",
       "      <th>2</th>\n",
       "      <td>1.0</td>\n",
       "      <td>1</td>\n",
       "      <td>0</td>\n",
       "      <td>0</td>\n",
       "      <td>1</td>\n",
       "      <td>1</td>\n",
       "      <td>0.098849</td>\n",
       "    </tr>\n",
       "    <tr>\n",
       "      <th>3</th>\n",
       "      <td>1.0</td>\n",
       "      <td>1</td>\n",
       "      <td>0</td>\n",
       "      <td>0</td>\n",
       "      <td>1</td>\n",
       "      <td>1</td>\n",
       "      <td>0.418877</td>\n",
       "    </tr>\n",
       "    <tr>\n",
       "      <th>4</th>\n",
       "      <td>1.0</td>\n",
       "      <td>0</td>\n",
       "      <td>0</td>\n",
       "      <td>0</td>\n",
       "      <td>0</td>\n",
       "      <td>0</td>\n",
       "      <td>-0.673335</td>\n",
       "    </tr>\n",
       "    <tr>\n",
       "      <th>...</th>\n",
       "      <td>...</td>\n",
       "      <td>...</td>\n",
       "      <td>...</td>\n",
       "      <td>...</td>\n",
       "      <td>...</td>\n",
       "      <td>...</td>\n",
       "      <td>...</td>\n",
       "    </tr>\n",
       "    <tr>\n",
       "      <th>362</th>\n",
       "      <td>1.0</td>\n",
       "      <td>1</td>\n",
       "      <td>0</td>\n",
       "      <td>0</td>\n",
       "      <td>0</td>\n",
       "      <td>0</td>\n",
       "      <td>0.088982</td>\n",
       "    </tr>\n",
       "    <tr>\n",
       "      <th>363</th>\n",
       "      <td>1.0</td>\n",
       "      <td>1</td>\n",
       "      <td>0</td>\n",
       "      <td>0</td>\n",
       "      <td>1</td>\n",
       "      <td>0</td>\n",
       "      <td>-0.369180</td>\n",
       "    </tr>\n",
       "    <tr>\n",
       "      <th>364</th>\n",
       "      <td>1.0</td>\n",
       "      <td>0</td>\n",
       "      <td>1</td>\n",
       "      <td>0</td>\n",
       "      <td>1</td>\n",
       "      <td>0</td>\n",
       "      <td>0.181644</td>\n",
       "    </tr>\n",
       "    <tr>\n",
       "      <th>365</th>\n",
       "      <td>1.0</td>\n",
       "      <td>1</td>\n",
       "      <td>0</td>\n",
       "      <td>1</td>\n",
       "      <td>1</td>\n",
       "      <td>0</td>\n",
       "      <td>0.353241</td>\n",
       "    </tr>\n",
       "    <tr>\n",
       "      <th>366</th>\n",
       "      <td>1.0</td>\n",
       "      <td>0</td>\n",
       "      <td>0</td>\n",
       "      <td>1</td>\n",
       "      <td>1</td>\n",
       "      <td>0</td>\n",
       "      <td>-0.673335</td>\n",
       "    </tr>\n",
       "  </tbody>\n",
       "</table>\n",
       "<p>367 rows × 7 columns</p>\n",
       "</div>"
      ],
      "text/plain": [
       "     Credit_History  Married  Property_Area_Semiurban  Property_Area_Rural  \\\n",
       "0               1.0        1                        0                    0   \n",
       "1               1.0        1                        0                    0   \n",
       "2               1.0        1                        0                    0   \n",
       "3               1.0        1                        0                    0   \n",
       "4               1.0        0                        0                    0   \n",
       "..              ...      ...                      ...                  ...   \n",
       "362             1.0        1                        0                    0   \n",
       "363             1.0        1                        0                    0   \n",
       "364             1.0        0                        1                    0   \n",
       "365             1.0        1                        0                    1   \n",
       "366             1.0        0                        0                    1   \n",
       "\n",
       "     Education  Dependents_2  CoapplicantIncome  \n",
       "0            1             0          -0.673335  \n",
       "1            1             0          -0.029848  \n",
       "2            1             1           0.098849  \n",
       "3            1             1           0.418877  \n",
       "4            0             0          -0.673335  \n",
       "..         ...           ...                ...  \n",
       "362          0             0           0.088982  \n",
       "363          1             0          -0.369180  \n",
       "364          1             0           0.181644  \n",
       "365          1             0           0.353241  \n",
       "366          1             0          -0.673335  \n",
       "\n",
       "[367 rows x 7 columns]"
      ]
     },
     "execution_count": 84,
     "metadata": {},
     "output_type": "execute_result"
    }
   ],
   "source": [
    "X_test"
   ]
  },
  {
   "cell_type": "code",
   "execution_count": 85,
   "id": "f27ffdf6",
   "metadata": {},
   "outputs": [],
   "source": [
    "X_test['Loan_Status']=svm_clf_best.predict(X_test)"
   ]
  },
  {
   "cell_type": "code",
   "execution_count": 86,
   "id": "446f4393",
   "metadata": {},
   "outputs": [
    {
     "data": {
      "text/html": [
       "<div>\n",
       "<style scoped>\n",
       "    .dataframe tbody tr th:only-of-type {\n",
       "        vertical-align: middle;\n",
       "    }\n",
       "\n",
       "    .dataframe tbody tr th {\n",
       "        vertical-align: top;\n",
       "    }\n",
       "\n",
       "    .dataframe thead th {\n",
       "        text-align: right;\n",
       "    }\n",
       "</style>\n",
       "<table border=\"1\" class=\"dataframe\">\n",
       "  <thead>\n",
       "    <tr style=\"text-align: right;\">\n",
       "      <th></th>\n",
       "      <th>Credit_History</th>\n",
       "      <th>Married</th>\n",
       "      <th>Property_Area_Semiurban</th>\n",
       "      <th>Property_Area_Rural</th>\n",
       "      <th>Education</th>\n",
       "      <th>Dependents_2</th>\n",
       "      <th>CoapplicantIncome</th>\n",
       "      <th>Loan_Status</th>\n",
       "    </tr>\n",
       "  </thead>\n",
       "  <tbody>\n",
       "    <tr>\n",
       "      <th>0</th>\n",
       "      <td>1.0</td>\n",
       "      <td>1</td>\n",
       "      <td>0</td>\n",
       "      <td>0</td>\n",
       "      <td>1</td>\n",
       "      <td>0</td>\n",
       "      <td>-0.673335</td>\n",
       "      <td>1</td>\n",
       "    </tr>\n",
       "    <tr>\n",
       "      <th>1</th>\n",
       "      <td>1.0</td>\n",
       "      <td>1</td>\n",
       "      <td>0</td>\n",
       "      <td>0</td>\n",
       "      <td>1</td>\n",
       "      <td>0</td>\n",
       "      <td>-0.029848</td>\n",
       "      <td>1</td>\n",
       "    </tr>\n",
       "    <tr>\n",
       "      <th>2</th>\n",
       "      <td>1.0</td>\n",
       "      <td>1</td>\n",
       "      <td>0</td>\n",
       "      <td>0</td>\n",
       "      <td>1</td>\n",
       "      <td>1</td>\n",
       "      <td>0.098849</td>\n",
       "      <td>1</td>\n",
       "    </tr>\n",
       "    <tr>\n",
       "      <th>3</th>\n",
       "      <td>1.0</td>\n",
       "      <td>1</td>\n",
       "      <td>0</td>\n",
       "      <td>0</td>\n",
       "      <td>1</td>\n",
       "      <td>1</td>\n",
       "      <td>0.418877</td>\n",
       "      <td>1</td>\n",
       "    </tr>\n",
       "    <tr>\n",
       "      <th>4</th>\n",
       "      <td>1.0</td>\n",
       "      <td>0</td>\n",
       "      <td>0</td>\n",
       "      <td>0</td>\n",
       "      <td>0</td>\n",
       "      <td>0</td>\n",
       "      <td>-0.673335</td>\n",
       "      <td>0</td>\n",
       "    </tr>\n",
       "    <tr>\n",
       "      <th>...</th>\n",
       "      <td>...</td>\n",
       "      <td>...</td>\n",
       "      <td>...</td>\n",
       "      <td>...</td>\n",
       "      <td>...</td>\n",
       "      <td>...</td>\n",
       "      <td>...</td>\n",
       "      <td>...</td>\n",
       "    </tr>\n",
       "    <tr>\n",
       "      <th>362</th>\n",
       "      <td>1.0</td>\n",
       "      <td>1</td>\n",
       "      <td>0</td>\n",
       "      <td>0</td>\n",
       "      <td>0</td>\n",
       "      <td>0</td>\n",
       "      <td>0.088982</td>\n",
       "      <td>1</td>\n",
       "    </tr>\n",
       "    <tr>\n",
       "      <th>363</th>\n",
       "      <td>1.0</td>\n",
       "      <td>1</td>\n",
       "      <td>0</td>\n",
       "      <td>0</td>\n",
       "      <td>1</td>\n",
       "      <td>0</td>\n",
       "      <td>-0.369180</td>\n",
       "      <td>1</td>\n",
       "    </tr>\n",
       "    <tr>\n",
       "      <th>364</th>\n",
       "      <td>1.0</td>\n",
       "      <td>0</td>\n",
       "      <td>1</td>\n",
       "      <td>0</td>\n",
       "      <td>1</td>\n",
       "      <td>0</td>\n",
       "      <td>0.181644</td>\n",
       "      <td>1</td>\n",
       "    </tr>\n",
       "    <tr>\n",
       "      <th>365</th>\n",
       "      <td>1.0</td>\n",
       "      <td>1</td>\n",
       "      <td>0</td>\n",
       "      <td>1</td>\n",
       "      <td>1</td>\n",
       "      <td>0</td>\n",
       "      <td>0.353241</td>\n",
       "      <td>1</td>\n",
       "    </tr>\n",
       "    <tr>\n",
       "      <th>366</th>\n",
       "      <td>1.0</td>\n",
       "      <td>0</td>\n",
       "      <td>0</td>\n",
       "      <td>1</td>\n",
       "      <td>1</td>\n",
       "      <td>0</td>\n",
       "      <td>-0.673335</td>\n",
       "      <td>0</td>\n",
       "    </tr>\n",
       "  </tbody>\n",
       "</table>\n",
       "<p>367 rows × 8 columns</p>\n",
       "</div>"
      ],
      "text/plain": [
       "     Credit_History  Married  Property_Area_Semiurban  Property_Area_Rural  \\\n",
       "0               1.0        1                        0                    0   \n",
       "1               1.0        1                        0                    0   \n",
       "2               1.0        1                        0                    0   \n",
       "3               1.0        1                        0                    0   \n",
       "4               1.0        0                        0                    0   \n",
       "..              ...      ...                      ...                  ...   \n",
       "362             1.0        1                        0                    0   \n",
       "363             1.0        1                        0                    0   \n",
       "364             1.0        0                        1                    0   \n",
       "365             1.0        1                        0                    1   \n",
       "366             1.0        0                        0                    1   \n",
       "\n",
       "     Education  Dependents_2  CoapplicantIncome  Loan_Status  \n",
       "0            1             0          -0.673335            1  \n",
       "1            1             0          -0.029848            1  \n",
       "2            1             1           0.098849            1  \n",
       "3            1             1           0.418877            1  \n",
       "4            0             0          -0.673335            0  \n",
       "..         ...           ...                ...          ...  \n",
       "362          0             0           0.088982            1  \n",
       "363          1             0          -0.369180            1  \n",
       "364          1             0           0.181644            1  \n",
       "365          1             0           0.353241            1  \n",
       "366          1             0          -0.673335            0  \n",
       "\n",
       "[367 rows x 8 columns]"
      ]
     },
     "execution_count": 86,
     "metadata": {},
     "output_type": "execute_result"
    }
   ],
   "source": [
    "X_test"
   ]
  },
  {
   "cell_type": "markdown",
   "id": "062aded5",
   "metadata": {},
   "source": [
    "### 특성제거 전후\n",
    "cross_val_score\n",
    "전([0.69105691, 0.69105691, 0.68292683, 0.68292683, 0.6557377 ])\n",
    "후([0.81300813, 0.74796748, 0.76422764, 0.85365854, 0.75409836])\n",
    "StratifiedKFold\n",
    "전([0.6910569105691057, 0.3089430894308943, 0.6829268292682927, 0.4552845528455284, 0.3114754098360656 ])\n",
    "후([0.8130081300813008, 0.7723577235772358, 0.8048780487804879, 0.5853658536585366, 0.8032786885245902 ])\n",
    "### 스케일링 전후\n",
    "cross_val_score\n",
    "전([0.81300813, 0.74796748, 0.76422764, 0.85365854, 0.75409836])\n",
    "후([0.81300813, 0.78048780, 0.78048780, 0.85365854, 0.81967213])\n",
    "StratifiedKFold\n",
    "전([0.8130081300813008, 0.7723577235772358, 0.8048780487804879, 0.5853658536585366, 0.8032786885245902 ])\n",
    "후([0.8211382113821138, 0.8211382113821138, 0.8048780487804879, 0.7886178861788617, 0.8278688524590164 ])\n",
    "### 하이퍼 파라미터 정제 전후\n",
    "cross_val_score\n",
    "전([0.81300813, 0.78048780, 0.78048780, 0.85365854, 0.81967213])\n",
    "후([0.81300813, 0.78048780, 0.78048780, 0.85365854, 0.81147541])\n",
    "StratifiedKFold\n",
    "전([0.8211382113821138, 0.8211382113821138, 0.8048780487804879, 0.7886178861788617, 0.8278688524590164 ])\n",
    "후([0.8130081300813008, 0.7967479674796748, 0.7560975609756098, 0.7479674796747967, 0.5491803278688525 ])"
   ]
  },
  {
   "cell_type": "code",
   "execution_count": null,
   "id": "1ce6487b",
   "metadata": {},
   "outputs": [],
   "source": []
  }
 ],
 "metadata": {
  "kernelspec": {
   "display_name": "Python 3 (ipykernel)",
   "language": "python",
   "name": "python3"
  },
  "language_info": {
   "codemirror_mode": {
    "name": "ipython",
    "version": 3
   },
   "file_extension": ".py",
   "mimetype": "text/x-python",
   "name": "python",
   "nbconvert_exporter": "python",
   "pygments_lexer": "ipython3",
   "version": "3.9.12"
  }
 },
 "nbformat": 4,
 "nbformat_minor": 5
}
